{
 "cells": [
  {
   "cell_type": "code",
   "execution_count": 1,
   "metadata": {},
   "outputs": [
    {
     "ename": "SyntaxError",
     "evalue": "invalid syntax (<ipython-input-1-49bf8d95ce1d>, line 1)",
     "traceback": [
      "\u001b[0;36m  File \u001b[0;32m\"<ipython-input-1-49bf8d95ce1d>\"\u001b[0;36m, line \u001b[0;32m1\u001b[0m\n\u001b[0;31m    ----\u001b[0m\n\u001b[0m        ^\u001b[0m\n\u001b[0;31mSyntaxError\u001b[0m\u001b[0;31m:\u001b[0m invalid syntax\n"
     ],
     "output_type": "error"
    }
   ],
   "source": [
    "----\n",
    "title: \"Title\"\n",
    "author: \"Me\"\n",
    "header-includes:\n",
    "   - \\usepackage{bbm}\n",
    "output:\n",
    "    pdf_document\n",
    "----"
   ]
  },
  {
   "cell_type": "markdown",
   "metadata": {
    "collapsed": true
   },
   "source": [
    "# Assignment 1 #\n",
    "\n",
    "**Due**: 8/30\n",
    "\n",
    "## Problem 1 ##\n",
    "\n",
    "Consider the following problem. You are selling *strawberries* and every day you need to purchase a certain quantity from a distributor. Your cost to buy a pint is $`c`$ and the price you sell it for is $`p`$. That means that with every sale you make $`p-c`$. You have to make the purchase decision in the morning before knowing the demand, which is distributed according to a random variable with CDF $`F`$. \n",
    "\n",
    "Strawberries spoil quickly and they must be discarded at the end of the day, leading to a loss of value $p$ for each pint. \n",
    "\n",
    "Check out the [simple simulator](https://rlrl.shinyapps.io/fruitvendor/) from the class too. (Look for the source code in the folder Code in this repository)\n",
    " \n",
    "The optimal quantity $`q`$ to order in the morning is (see e.g. [Wikipedia](https://en.wikipedia.org/wiki/Newsvendor_model))\n",
    "```math\n",
    "q = F^{-1}\\left( \\frac{p - c}{p} \\right)~.\n",
    "```\n",
    "Prove it. \n",
    "\n",
    "*Hint*: Using [Leignitz integral rule](https://en.wikipedia.org/wiki/Leibniz_integral_rule), one can show that:\n",
    "```math\n",
    "\\mathbb{E}[\\min\\{ X - q, 0 \\}] = -F(q)\n",
    "```\n",
    "\n",
    "## Problem 2 ##\n",
    "\n",
    "Now you are selling candy instead. Candy does not spoil and any unsold quantity can be stored and sold the following day. Storing unsold quantity incurrs a holding cost. Does this affect the optimality of the solution above? Formulate the problem as an MDP. Describes states, actions, rewards, probabilities, horizon, discount, and anything else that you think is relevant. Also see Example 1 on Page 9 of ARL."
   ]
  },
  {
   "cell_type": "code",
   "execution_count": null,
   "metadata": {},
   "outputs": [],
   "source": [
    ""
   ]
  }
 ],
 "metadata": {
  "kernelspec": {
   "display_name": "Python 2",
   "language": "python",
   "name": "python2"
  },
  "language_info": {
   "codemirror_mode": {
    "name": "ipython",
    "version": 2
   },
   "file_extension": ".py",
   "mimetype": "text/x-python",
   "name": "python",
   "nbconvert_exporter": "python",
   "pygments_lexer": "ipython2",
   "version": "2.7.6"
  }
 },
 "nbformat": 4,
 "nbformat_minor": 0
}
